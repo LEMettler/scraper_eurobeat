{
  "nbformat": 4,
  "nbformat_minor": 0,
  "metadata": {
    "colab": {
      "name": "scraper_eurobeat.ipynb",
      "provenance": [],
      "mount_file_id": "1skhZ8uox9yJBpRO6ZjO80ApYU7eGJ6Ub",
      "authorship_tag": "ABX9TyMXgB/xtkr8Ba5FAiFTs0Tp",
      "include_colab_link": true
    },
    "kernelspec": {
      "name": "python3",
      "display_name": "Python 3"
    }
  },
  "cells": [
    {
      "cell_type": "markdown",
      "metadata": {
        "id": "view-in-github",
        "colab_type": "text"
      },
      "source": [
        "<a href=\"https://colab.research.google.com/github/Lmeerlu/scraper_eurobeat/blob/master/scraper_eurobeat.ipynb\" target=\"_parent\"><img src=\"https://colab.research.google.com/assets/colab-badge.svg\" alt=\"Open In Colab\"/></a>"
      ]
    },
    {
      "cell_type": "markdown",
      "metadata": {
        "id": "7JY-9hxsO9gT",
        "colab_type": "text"
      },
      "source": [
        "Scraping eurobeat lyrics from [EUROBEAT PRIME](https://www.eurobeat-prime.com) (which is great) to create a homogeneous dataset for ml.\n",
        "\n",
        "\n",
        "# Helpful resources:\n",
        "[Web scraping in Python](https://colab.research.google.com/drive/15AEaOsAKWgikKY7BEOWxUlKsjjBjRD6R)\n",
        "\n",
        "[Reading and Writing](https://docs.python.org/3/tutorial/inputoutput.html)\n",
        "\n",
        "[Progress bar](https://colab.research.google.com/drive/1I2o3Ie34vJ3G4M6eE54-OyrmzJNBwhOp)\n",
        "\n"
      ]
    },
    {
      "cell_type": "code",
      "metadata": {
        "id": "xczdaHGOLskW",
        "colab_type": "code",
        "colab": {}
      },
      "source": [
        "from google.colab import drive\n",
        "drive.mount('/content/gdrive')"
      ],
      "execution_count": 0,
      "outputs": []
    },
    {
      "cell_type": "code",
      "metadata": {
        "id": "0a3aPEBh-UQ4",
        "colab_type": "code",
        "colab": {}
      },
      "source": [
        "!pip install requests\n",
        "!pip install beautifulsoup4"
      ],
      "execution_count": 0,
      "outputs": []
    },
    {
      "cell_type": "code",
      "metadata": {
        "id": "bxv0eLRT9Z3v",
        "colab_type": "code",
        "colab": {}
      },
      "source": [
        "import numpy as np\n",
        "import pandas as pd\n",
        "import requests\n",
        "import bs4\n",
        "import lxml.etree as xml\n",
        "from IPython.display import HTML, display"
      ],
      "execution_count": 0,
      "outputs": []
    },
    {
      "cell_type": "code",
      "metadata": {
        "id": "-Hx43srpSCG3",
        "colab_type": "code",
        "colab": {}
      },
      "source": [
        "#progress bar\n",
        "def progress(value, max=100):\n",
        "    return HTML(\"\"\"\n",
        "        <progress\n",
        "            value='{value}'\n",
        "            max='{max}',\n",
        "            style='width: 100%'\n",
        "        >\n",
        "            {value}\n",
        "        </progress>\n",
        "    \"\"\".format(value=value, max=max))"
      ],
      "execution_count": 0,
      "outputs": []
    },
    {
      "cell_type": "code",
      "metadata": {
        "id": "9ZAnuFg49p0A",
        "colab_type": "code",
        "outputId": "32eeaf73-5e1f-4eef-dd76-252a22ed6797",
        "colab": {
          "base_uri": "https://localhost:8080/",
          "height": 34
        }
      },
      "source": [
        "#write it all in a loop\n",
        "#/content/gdrive/My Drive/colab_files/eurobeat_lyrics.txt\n",
        "\n",
        "#index of first and last song (MAXIMUM: 4433)\n",
        "song_min = 1\n",
        "song_max = 1000\n",
        "\n",
        "#open 'eurobeat_lyrics.txt' in my drive and delete its previous context\n",
        "file = '/content/gdrive/My Drive/colab_files/eurobeat_lyrics.txt'\n",
        "file = open(file, mode='w')\n",
        "file.truncate(0)\n",
        "\n",
        "#progess bar\n",
        "out = display(progress(0, 100), display_id=True)\n",
        "    \n",
        "#eurobeat-prime indexes its database, which we will loop over\n",
        "for i in range(song_min, song_max):\n",
        "    URL = \"https://www.eurobeat-prime.com/lyrics.php?lyrics=\" + str(i)\n",
        "    requests.get(URL, {}).text\n",
        "\n",
        "    #beautifoul soup object\n",
        "    web_page = bs4.BeautifulSoup(requests.get(URL, {}).text, \"lxml\")\n",
        "    #filter html\n",
        "    sub_web_page = web_page.find_all(name=\"div\", attrs={\"class\": \"mmids\"})[0]\n",
        "\n",
        "    #extract lyrics\n",
        "    lyrics = sub_web_page.get_text()\n",
        "    lyrics = lyrics.split('\\n', 2)[2]\n",
        "\n",
        "    #write lyrics to file in drive\n",
        "    file.write(lyrics)\n",
        "    file.write('\\n')\n",
        "\n",
        "    #process\n",
        "    out.update(progress(i, song_max))\n",
        "    #print(str(i) + '/' + str(song_max))\n",
        "\n",
        "\n",
        "file.close()"
      ],
      "execution_count": 0,
      "outputs": [
        {
          "output_type": "display_data",
          "data": {
            "text/html": [
              "\n",
              "        <progress\n",
              "            value='999'\n",
              "            max='1000',\n",
              "            style='width: 100%'\n",
              "        >\n",
              "            999\n",
              "        </progress>\n",
              "    "
            ],
            "text/plain": [
              "<IPython.core.display.HTML object>"
            ]
          },
          "metadata": {
            "tags": []
          }
        }
      ]
    }
  ]
}